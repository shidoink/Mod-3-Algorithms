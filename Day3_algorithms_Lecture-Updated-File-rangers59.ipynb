{
 "cells": [
  {
   "cell_type": "markdown",
   "metadata": {},
   "source": [
    "# Algorithms, Binary Search & Linked Lists"
   ]
  },
  {
   "cell_type": "markdown",
   "metadata": {},
   "source": [
    "## Tasks Today:\n",
    " \n",
    "1) <b>In-Place Algorithms</b> <br>\n",
    " &nbsp;&nbsp;&nbsp;&nbsp; a) Syntax <br>\n",
    " &nbsp;&nbsp;&nbsp;&nbsp; a) Out of Place Algorithm <br>\n",
    " &nbsp;&nbsp;&nbsp;&nbsp; b) In-Class Exercise #1 <br>\n",
    "2) <b>Two Pointers</b> <br>\n",
    "3) <b>Linked Lists</b> <br>\n",
    "4) <b>Merge Sort</b> <br>\n",
    " &nbsp;&nbsp;&nbsp;&nbsp; a) Video on Algorithms <br>\n",
    " &nbsp;&nbsp;&nbsp;&nbsp; b) How it Works <br>\n",
    "5) <b>Exercises</b> <br>\n",
    " &nbsp;&nbsp;&nbsp;&nbsp; a) Exercise #1 - Reverse a List in Place Using an In-Place Algorithm <br>\n",
    " &nbsp;&nbsp;&nbsp;&nbsp; b) Exercise #2 - Find Distinct Words <br>\n",
    " &nbsp;&nbsp;&nbsp;&nbsp; c) Exercise #3 - Write a program to implement a Linear Search Algorithm. <br>"
   ]
  },
  {
   "cell_type": "markdown",
   "metadata": {},
   "source": [
    "## In-Place Algorithms"
   ]
  },
  {
   "cell_type": "markdown",
   "metadata": {},
   "source": [
    "#### Syntax"
   ]
  },
  {
   "cell_type": "code",
   "execution_count": 2,
   "metadata": {},
   "outputs": [
    {
     "name": "stdout",
     "output_type": "stream",
     "text": [
      "[20, 4, 10]\n",
      "[20, 10, 4]\n"
     ]
    }
   ],
   "source": [
    "#var[i], var[i+1] =var[i+1], var[i]\n",
    "#sometimes called swap algorithm\n",
    "\n",
    "def swap(a_list, x, y ,z):\n",
    "    a_list[x], a_list[y], a_list[z] =a_list[z], a_list[y], a_list[x]\n",
    "    return a_list\n",
    "my_list=[20,4,10]\n",
    "print(my_list)\n",
    "swap(my_list, 2, 0 , 1)\n",
    "print(my_list)"
   ]
  },
  {
   "cell_type": "markdown",
   "metadata": {},
   "source": [
    "#### Out of Place Algorithm"
   ]
  },
  {
   "cell_type": "code",
   "execution_count": 6,
   "metadata": {},
   "outputs": [
    {
     "name": "stdout",
     "output_type": "stream",
     "text": [
      "[4, 10, 20]\n",
      "[20, 10, 4]\n",
      "['a', 'b', 'c', 'd']\n",
      "['d', 'c', 'b', 'a']\n"
     ]
    }
   ],
   "source": [
    "# Not swapping, completely reversing But also copies to another place in memory\n",
    "my_list_copy= my_list[::-1]\n",
    "print(my_list_copy)\n",
    "print(my_list)\n",
    "\n",
    "array = ['a','b','c','d']\n",
    "new_array= ['a'] * len(array)\n",
    "\n",
    "print(array)\n",
    "length= len(array) -1\n",
    "\n",
    "for i in range(length):\n",
    "    new_array[i] = array[length-i]\n",
    "\n",
    "array = new_array\n",
    "\n",
    "print(array)\n",
    "\n",
    "\n"
   ]
  },
  {
   "cell_type": "markdown",
   "metadata": {},
   "source": [
    "#### In-Class Exercise #1 <br>\n",
    "<p>Write a function that takes in four arguments (list, index1, index2, index3), and swaps those three positions in the list passed in.</p>"
   ]
  },
  {
   "cell_type": "code",
   "execution_count": 15,
   "metadata": {},
   "outputs": [
    {
     "name": "stdout",
     "output_type": "stream",
     "text": [
      "[3, 10, 4, 8, 4, 2, 6]\n"
     ]
    }
   ],
   "source": [
    "l_1 = [10, 4, 3, 8, 4, 2, 6]\n",
    "\n",
    "def swap_positions(lst, index1, index2, index3):\n",
    "    lst[index1], lst[index2], lst[index3] = lst[index3], lst[index1], lst[index2]\n",
    "\n",
    "swap_positions(l_1, 0, 1, 2)\n",
    "print(l_1)\n",
    "    "
   ]
  },
  {
   "cell_type": "markdown",
   "metadata": {},
   "source": [
    "## Two Pointers"
   ]
  },
  {
   "cell_type": "markdown",
   "metadata": {},
   "source": [
    "#### Syntax"
   ]
  },
  {
   "cell_type": "code",
   "execution_count": 17,
   "metadata": {},
   "outputs": [
    {
     "data": {
      "text/plain": [
       "[22, 11, 4, 8, 9, 12, 3, 2, 1]"
      ]
     },
     "execution_count": 17,
     "metadata": {},
     "output_type": "execute_result"
    }
   ],
   "source": [
    "#alist[left], alist[right] = alist[right], alist[left]\n",
    "def twoPointers(alist):\n",
    "    #create pointers\n",
    "    left = 0\n",
    "    right = len(alist) - 1\n",
    "    #set up a loop that works through our list and swaps things one pair at a time\n",
    "    while left <= right:\n",
    "        alist[left], alist[right] = alist[right], alist[left]\n",
    "        left += 1\n",
    "        right -= 1\n",
    "    return alist\n",
    "\n",
    "my_list2= [1,2,3,12,9,8,4,11,22]\n",
    "twoPointers(my_list2)"
   ]
  },
  {
   "cell_type": "markdown",
   "metadata": {},
   "source": [
    "#### Video of Algorithms <br>\n",
    "<p>Watch the video about algorithms.</p>\n",
    "\n",
    "https://www.youtube.com/watch?v=Q9HjeFD62Uk\n",
    "\n",
    "https://www.youtube.com/watch?v=kPRA0W1kECg\n",
    "\n",
    "https://www.youtube.com/watch?v=ZZuD6iUe3Pc"
   ]
  },
  {
   "cell_type": "markdown",
   "metadata": {},
   "source": [
    "# Sorting Algorithms"
   ]
  },
  {
   "cell_type": "markdown",
   "metadata": {},
   "source": [
    "#### Bubble Sort\n",
    "\n",
    "Worst Case: O(n^2) Time - O(1) Space"
   ]
  },
  {
   "cell_type": "code",
   "execution_count": 19,
   "metadata": {},
   "outputs": [
    {
     "data": {
      "text/plain": [
       "[1, 22, 34, 44, 55, 66, 88, 100]"
      ]
     },
     "execution_count": 19,
     "metadata": {},
     "output_type": "execute_result"
    }
   ],
   "source": [
    "# Best case (o)n - linear \n",
    "def swap(i,j, array):\n",
    "    array[i], array[j]= array[j], array[i]\n",
    "    \n",
    "def bubbleSort(array):\n",
    "    isSorted = False\n",
    "    while not isSorted:\n",
    "        isSorted = True\n",
    "        for num in range(len(array)-1):\n",
    "            if array[num] > array[num+1]:\n",
    "                swap(num,num +1,array)\n",
    "                isSorted= False\n",
    "    return array\n",
    "bubbleSort([22,55,88,44,1,100,34,66])"
   ]
  },
  {
   "cell_type": "markdown",
   "metadata": {},
   "source": [
    "##### Insertion Sort\n",
    "\n",
    "Worst Case: O(n^2) time - O(1)space"
   ]
  },
  {
   "cell_type": "code",
   "execution_count": 22,
   "metadata": {},
   "outputs": [
    {
     "data": {
      "text/plain": [
       "[1, 22, 34, 44, 55, 66, 88, 100]"
      ]
     },
     "execution_count": 22,
     "metadata": {},
     "output_type": "execute_result"
    }
   ],
   "source": [
    "def swap (i,j, array):\n",
    "    array[i], array[j]= array[j], array[i]\n",
    "    \n",
    "def insertionSort(array):\n",
    "    for i in range(1,len(array)):\n",
    "        j=i\n",
    "        while j>0 and array[j]< array[j-1]:\n",
    "            swap(j,j-1,array)\n",
    "            j-=1\n",
    "    return array\n",
    "\n",
    "insertionSort([22,55,88,44,1,100,34,66])"
   ]
  },
  {
   "cell_type": "markdown",
   "metadata": {},
   "source": [
    "## Merge Sort"
   ]
  },
  {
   "cell_type": "markdown",
   "metadata": {},
   "source": [
    "#### How it Works"
   ]
  },
  {
   "cell_type": "code",
   "execution_count": null,
   "metadata": {},
   "outputs": [],
   "source": [
    "# Step one split everything into its own group\n",
    "#Step two from left to right, merge two groups together\n",
    "# step 3 while merging, place each item in the correct position within the meerged group\n",
    "# step 4 continue 3-4 until only one group is left\n",
    "\n",
    "from random import randint\n",
    "#generate random list of 5 nums 0 to 20\n",
    "nums= [randint(0,40) for i in range(10)]\n",
    "print(nums)\n",
    "\n",
    "#Write merge sort\n",
    "def mergeSort(alist):\n",
    "    print(\"Splitting\", alist)\n",
    "    \n",
    "    # Divide array into equal parts\n",
    "    if len(alist) > 1:\n",
    "        mid = len(alist)// 2\n",
    "        lefthalf = alist[:mid]\n",
    "        righthalf= alist[mid:]\n",
    "        \n",
    "        # recursively call mergesort to perform splits if needed\n",
    "        mergeSort(lefthalf)\n",
    "        mergeSort(righthalf)\n",
    "        \n",
    "        # index pointers for our list\n",
    "        i = 0 #pointer for our left half\n",
    "        j = 0 #pointer for our right half\n",
    "        k = 0 #pointer for our main array\n",
    "        \n",
    "        # compare lefthalf and righthalf\n",
    "        while i < len(lefthalf) and j < len(righthalf):\n",
    "            if lefthalf[i] < righthalf[j]:\n",
    "                alist[k] = lefthalf[i]\n",
    "                i = i + 1\n",
    "            else:\n",
    "                alist[k] = righthalf[j]\n",
    "                j = j + 1\n",
    "            k = k + 1\n",
    "            \n",
    "        # Step 3: while mergeing place items in the correct positions\n",
    "        while i < len(lefthalf):\n",
    "            alist[k] = lefthalf[i]\n",
    "            i = i + 1\n",
    "            k = k + 1\n",
    "        while j < len(righthalf):\n",
    "            alist[k] = righthalf[j]\n",
    "            j = j + 1\n",
    "            k = k + 1\n",
    "    print(\"Merging...\", alist)\n",
    "    return alist\n",
    "\n",
    "mergeSort(nums)"
   ]
  },
  {
   "cell_type": "markdown",
   "metadata": {},
   "source": [
    "# Binary Search\n",
    "\n",
    "The Binary Search algorithm works by finding the number in the middle of a given array and comparing it to the target. Given that the array is sorted\n",
    "\n",
    "* The worst case run time for this algorithm is `O(log(n))`"
   ]
  },
  {
   "cell_type": "code",
   "execution_count": 32,
   "metadata": {},
   "outputs": [
    {
     "data": {
      "text/plain": [
       "' the index is 1'"
      ]
     },
     "execution_count": 32,
     "metadata": {},
     "output_type": "execute_result"
    }
   ],
   "source": [
    "# Less  = left\n",
    "#Greater  = Right\n",
    "#list of numbers must be sorted!!!\n",
    "\n",
    "def binarySearchHelperFunction(array, target, left, right):\n",
    "    while left <= right:\n",
    "        middle = (left + right) // 2\n",
    "        potentialMatch = array[middle]\n",
    "        if target == potentialMatch:\n",
    "            return f' the index is {middle}'\n",
    "        elif target <potentialMatch:\n",
    "            right = middle -1\n",
    "        else:\n",
    "            left = middle +1\n",
    "    return -1\n",
    "\n",
    "def binarySearch(array, target):\n",
    "    return binarySearchHelperFunction(array,target, 0 , len(array)-1)\n",
    "\n",
    "binarySearch([22,44,55,66,88,100],44)\n"
   ]
  },
  {
   "cell_type": "markdown",
   "metadata": {},
   "source": [
    "# Exercises"
   ]
  },
  {
   "cell_type": "markdown",
   "metadata": {},
   "source": [
    "### Exercise #1 <br>\n",
    "<p>Reverse the list below in-place using an in-place algorithm.<br>For extra credit: Reverse the strings at the same time.</p>"
   ]
  },
  {
   "cell_type": "code",
   "execution_count": 36,
   "metadata": {},
   "outputs": [
    {
     "name": "stdout",
     "output_type": "stream",
     "text": [
      "['.', 'word', 'sentence', 'a', 'is', 'this']\n",
      "['.', 'drow', 'ecnetnes', 'a', 'si', 'siht']\n"
     ]
    }
   ],
   "source": [
    "words = ['this' , 'is', 'a', 'sentence', 'word' ,'.']\n",
    "\n",
    "def swapwords( array):\n",
    "    x= 0 # leftside index\n",
    "    y = len(array)-1 #rightside index\n",
    "    while x <=y:\n",
    "        array[x], array[y] = array[y], array[x]\n",
    "        x=x+1\n",
    "        y=y-1\n",
    "    print(array)\n",
    "\n",
    "\n",
    "def swapletters(array):\n",
    "    n=0 #index\n",
    "    for word in array:\n",
    "        wordlist=list(word)\n",
    "        x= 0 # leftside index\n",
    "        y = len(wordlist)-1 #rightside index\n",
    "        while x <=y:\n",
    "            wordlist[x], wordlist[y] = wordlist[y], wordlist[x]\n",
    "            x=x+1\n",
    "            y=y-1\n",
    "        backword=\"\".join(wordlist)\n",
    "        \n",
    "        array[n]=backword\n",
    "        n+=1\n",
    "    print(array)\n",
    "swapwords(words)\n",
    "swapletters(words)\n"
   ]
  },
  {
   "cell_type": "markdown",
   "metadata": {},
   "source": [
    "### Exercise #2 <br>\n",
    "<p>Create a function that counts how many distinct words are in the string below, then outputs a dictionary with the words as the key and the value as the amount of times that word appears in the string.<br>Should output:<br>{'a': 5,<br>\n",
    " 'abstract': 1,<br>\n",
    " 'an': 3,<br>\n",
    " 'array': 2, ... etc...</p>"
   ]
  },
  {
   "cell_type": "code",
   "execution_count": 49,
   "metadata": {},
   "outputs": [
    {
     "name": "stdout",
     "output_type": "stream",
     "text": [
      "In : 1\n",
      "Computing : 1\n",
      "A : 5\n",
      "Hash : 4\n",
      "Table : 2\n",
      "Map : 2\n",
      "Is : 1\n",
      "Data : 2\n",
      "Structure : 2\n",
      "Which : 2\n",
      "Implements : 1\n",
      "An : 3\n",
      "Associative : 1\n",
      "Array : 2\n",
      "Abstract : 1\n",
      "Type : 1\n",
      "That : 1\n",
      "Can : 2\n",
      "Keys : 1\n",
      "To : 2\n",
      "Values : 1\n",
      "Uses : 1\n",
      "Function : 1\n",
      "Compute : 1\n",
      "Index : 1\n",
      "Into : 1\n",
      "Of : 1\n",
      "Buckets : 1\n",
      "Or : 1\n",
      "Slots : 1\n",
      "From : 1\n",
      "The : 1\n",
      "Desired : 1\n",
      "Value : 1\n",
      "Be : 1\n",
      "Found : 1\n"
     ]
    }
   ],
   "source": [
    "a_text = 'In computing, ! , . ? a hash table hash map is a data structure which implements an associative array abstract data type, a structure that can map keys to values. A hash table uses a hash function to compute an index into an array of buckets or slots from which the desired value can be found'\n",
    "\n",
    "\n",
    "def dictcount(string):\n",
    "    string=string.replace('!',\"\")\n",
    "    string=string.replace(\",\",\"\")\n",
    "    string=string.replace(\".\",\"\")\n",
    "    string=string.replace(\"?\",\"\")\n",
    "    string=string.lower()\n",
    "    wordlist=string.split()\n",
    "    compiled_dict={}\n",
    "    for word in wordlist:\n",
    "        if word in compiled_dict.keys():\n",
    "            continue\n",
    "        else:\n",
    "            word_count= wordlist.count(word)\n",
    "            compiled_dict[word]= word_count\n",
    "    for key,value in compiled_dict.items():\n",
    "        print(f\"{key.title()} : {value}\")\n",
    "    \n",
    "dictcount(a_text)\n",
    "        \n",
    "        \n",
    "        \n",
    " \n",
    "         #   for content in self.contents:\n",
    "          #      if content in compiled_cart.keys():\n",
    "           #         continue\n",
    "            #    else:\n",
    "            #        item_count= self.contents.count(content)\n",
    "            #        compiled_cart[content]=item_count\n",
    "            #for key,value in compiled_cart.items():\n",
    "            #    print(f\"{key.title()} : {value}\")"
   ]
  },
  {
   "cell_type": "markdown",
   "metadata": {},
   "source": [
    "## Exercise #3\n",
    "\n",
    "Write a program to implement a Linear Search Algorithm. Also in a comment, write the Time Complexity of the following algorithm.\n",
    "\n",
    "#### Hint: Linear Searching will require searching a list for a given number. "
   ]
  },
  {
   "cell_type": "code",
   "execution_count": 1,
   "metadata": {},
   "outputs": [
    {
     "name": "stdout",
     "output_type": "stream",
     "text": [
      "Target item at index 0\n"
     ]
    }
   ],
   "source": [
    "nums_list = [10,23,45,70,11,15]\n",
    "\n",
    "def linearSearch( targetlist, target):\n",
    "    n=0 #index location\n",
    "    searching= True\n",
    "    while searching:\n",
    "        try:\n",
    "            if targetlist[n]== target:\n",
    "                print(f'Target item at index {n}')\n",
    "                searching= False\n",
    "        except:\n",
    "            print(f'target {target} not found')\n",
    "            searching = False\n",
    "        \n",
    "        else:\n",
    "            n+=1\n",
    "    \n",
    "linearSearch(nums_list, 10)\n",
    "\n",
    "# Time complexity is O(n)"
   ]
  },
  {
   "cell_type": "code",
   "execution_count": null,
   "metadata": {},
   "outputs": [],
   "source": []
  }
 ],
 "metadata": {
  "kernelspec": {
   "display_name": "Python 3 (ipykernel)",
   "language": "python",
   "name": "python3"
  },
  "language_info": {
   "codemirror_mode": {
    "name": "ipython",
    "version": 3
   },
   "file_extension": ".py",
   "mimetype": "text/x-python",
   "name": "python",
   "nbconvert_exporter": "python",
   "pygments_lexer": "ipython3",
   "version": "3.9.13"
  },
  "vscode": {
   "interpreter": {
    "hash": "a9960baf88259386db57c734c8604c8e4ab789688672644b3cf73fda24b112c6"
   }
  }
 },
 "nbformat": 4,
 "nbformat_minor": 2
}
